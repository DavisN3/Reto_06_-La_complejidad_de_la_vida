{
 "cells": [
  {
   "cell_type": "markdown",
   "metadata": {},
   "source": [
    "Reto #6"
   ]
  },
  {
   "cell_type": "markdown",
   "metadata": {},
   "source": [
    "<hr>"
   ]
  },
  {
   "cell_type": "markdown",
   "metadata": {},
   "source": [
    "### Punto 1"
   ]
  },
  {
   "cell_type": "code",
   "execution_count": null,
   "metadata": {},
   "outputs": [],
   "source": [
    "def cuadrados_cien():\n",
    "    print(\"Listado de números del 1 al 100 elevado al cuadrado:\")  # Se imprime el nombre del propósito del programa.\n",
    "    i = 1\n",
    "    while i <= 100:\n",
    "        print(f\"{i}: {i**2}\")  # Muestra el número actual y su cuadrado.\n",
    "        i += 1  # Incrementa 'i' para continuar el bucle hasta que sea igual a 100.\n",
    "\n",
    "def main():\n",
    "    cuadrados_cien()  # Llama a la función encargada de imprimir los cuadrados.\n",
    "\n",
    "if __name__ == \"__main__\":\n",
    "    main()  # Inicia el programa solo si el archivo se ejecuta directamente."
   ]
  },
  {
   "cell_type": "markdown",
   "metadata": {},
   "source": [
    "<hr>"
   ]
  },
  {
   "cell_type": "markdown",
   "metadata": {},
   "source": [
    "### Punto 2"
   ]
  },
  {
   "cell_type": "code",
   "execution_count": null,
   "metadata": {},
   "outputs": [],
   "source": [
    "def par_impar():\n",
    "    print(\"Listado de números impares del 1 al 999:\")  # Encabezado para los números impares.\n",
    "    i = 1\n",
    "    while i < 1000:\n",
    "        print(i, end=\" \")  # Imprime los números impares en una línea.\n",
    "        i += 2  # Incrementa en 2 para obtener el siguiente número impar.\n",
    "\n",
    "    print(\"Listado de números pares del 2 al 1000:\")  # Encabezado para los números pares.\n",
    "    i = 2\n",
    "    while i <= 1000:\n",
    "        print(i, end=\" \")  # Imprime los números pares en una línea.\n",
    "        i += 2  # Incrementa en 2 para obtener el siguiente número par.\n",
    "\n",
    "def main():\n",
    "    par_impar()  # Llama a la función que muestra los números pares e impares.\n",
    "\n",
    "if __name__ == \"__main__\":\n",
    "    main()  # Ejecuta el programa solo si el archivo se corre directamente."
   ]
  },
  {
   "cell_type": "markdown",
   "metadata": {},
   "source": [
    "<hr>"
   ]
  },
  {
   "cell_type": "markdown",
   "metadata": {},
   "source": [
    "### Punto 3"
   ]
  },
  {
   "cell_type": "code",
   "execution_count": null,
   "metadata": {},
   "outputs": [],
   "source": [
    "def descendente(n):\n",
    "    print(f\"Números pares descendentes menores o iguales a {n}:\")  # Encabezado con el valor ingresado.\n",
    "    i = n\n",
    "    while i >= 2:  # Itera desde 'n' hasta 2, incluyendo ambos.\n",
    "        if i % 2 == 0:  # Verifica si 'i' es par.\n",
    "            print(i, end=\" \")  # Imprime el número par en la misma línea.\n",
    "        i -= 1  # Decrementa 'i' en cada iteración.\n",
    "    print()  # Salto de línea final para separar la salida.\n",
    "\n",
    "def main():\n",
    "    # Solicita al usuario un número natural y lo pasa a la función 'descendente'.\n",
    "    n = int(input(\"Ingrese un número natural mayor o igual a dos, para tener los números pares menores a él: \"))\n",
    "    descendente(n)\n",
    "\n",
    "if __name__ == \"__main__\":\n",
    "    main()  # Ejecuta el programa si el archivo se corre directamente."
   ]
  },
  {
   "cell_type": "markdown",
   "metadata": {},
   "source": [
    "<hr>"
   ]
  },
  {
   "cell_type": "markdown",
   "metadata": {},
   "source": [
    "### Punto 4"
   ]
  },
  {
   "cell_type": "code",
   "execution_count": null,
   "metadata": {},
   "outputs": [],
   "source": [
    "def factorial(n):\n",
    "    factor = 1  # Acumulador del factorial.\n",
    "    i = 2  \n",
    "    while i <= n:\n",
    "        factor *= i  # Multiplica cada número desde 2 hasta 'n'.\n",
    "        i += 1\n",
    "    return factor  # Retorna el resultado.\n",
    "\n",
    "def main():\n",
    "    n = int(input(\"Ingrese un número natural para determinar su factorial: \"))  # Entrada del usuario.\n",
    "    print(f\"El factorial de {n} es {factorial(n)}.\")  # Muestra el factorial calculado.\n",
    "\n",
    "if __name__ == \"__main__\":\n",
    "    main()  # Inicia el programa si se ejecuta directamente."
   ]
  },
  {
   "cell_type": "markdown",
   "metadata": {},
   "source": [
    "<hr>"
   ]
  },
  {
   "cell_type": "markdown",
   "metadata": {},
   "source": [
    "### Punto 5"
   ]
  },
  {
   "cell_type": "code",
   "execution_count": null,
   "metadata": {},
   "outputs": [],
   "source": [
    "def divisores(n):\n",
    "    print(f\"Los divisores de {n} son:\")  # Muestra mensaje indicando los divisores.\n",
    "    i = 1\n",
    "    while i <= n:  # Itera desde 1 hasta 'n'.\n",
    "        if n % i == 0:  # Comprueba si 'i' es divisor de 'n'.\n",
    "            print(i, end=\" \")  # Imprime el divisor en la misma línea.\n",
    "        i += 1  # Incrementa 'i'.\n",
    "    print()  # Salto de línea final.\n",
    "\n",
    "def main():\n",
    "    n = int(input(\"Ingrese un número entre 2 y 50: \"))  # Entrada del número por el usuario.\n",
    "    divisores(n)  # Llama a la función para encontrar divisores.\n",
    "\n",
    "if __name__ == \"__main__\":\n",
    "    main()  # Ejecuta solo si el archivo se ejecuta directamente."
   ]
  },
  {
   "cell_type": "markdown",
   "metadata": {},
   "source": [
    "<hr>"
   ]
  },
  {
   "cell_type": "markdown",
   "metadata": {},
   "source": [
    "### Punto 6"
   ]
  },
  {
   "cell_type": "code",
   "execution_count": null,
   "metadata": {},
   "outputs": [],
   "source": [
    "def primos(n):\n",
    "    if n < 2:  # Un número menor a 2 no es primo.\n",
    "        return False\n",
    "    i = 2\n",
    "    while i * i <= n:  # Verifica divisores hasta la raíz cuadrada de 'n'.\n",
    "        if n % i == 0:  # Si es divisible por 'i', no es primo.\n",
    "            return False\n",
    "        i += 1\n",
    "    return True  # Si no tiene divisores, es primo.\n",
    "\n",
    "def primos_cien():\n",
    "    print(\"Los números primos entre 1 y 100 son:\")  # Encabezado para la lista de primos.\n",
    "    i = 1\n",
    "    while i <= 100:\n",
    "        if primos(i):  # Llama a la función para verificar si 'i' es primo.\n",
    "            print(i, end=\" \")  # Imprime los números primos en la misma línea.\n",
    "        i += 1\n",
    "    print()  # Salto de línea al final.\n",
    "\n",
    "def main():\n",
    "    primos_cien()  # Ejecuta la función para mostrar los números primos.\n",
    "\n",
    "if __name__ == \"__main__\":\n",
    "    main()  # Inicia el programa solo si se ejecuta directamente."
   ]
  },
  {
   "cell_type": "markdown",
   "metadata": {},
   "source": [
    "<hr>"
   ]
  }
 ],
 "metadata": {
  "kernelspec": {
   "display_name": "Python 3",
   "language": "python",
   "name": "python3"
  },
  "language_info": {
   "codemirror_mode": {
    "name": "ipython",
    "version": 3
   },
   "file_extension": ".py",
   "mimetype": "text/x-python",
   "name": "python",
   "nbconvert_exporter": "python",
   "pygments_lexer": "ipython3",
   "version": "3.12.8"
  },
  "orig_nbformat": 4
 },
 "nbformat": 4,
 "nbformat_minor": 2
}
